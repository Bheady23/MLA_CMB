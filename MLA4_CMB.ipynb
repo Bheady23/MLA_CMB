{
  "nbformat": 4,
  "nbformat_minor": 0,
  "metadata": {
    "colab": {
      "provenance": [],
      "authorship_tag": "ABX9TyO6YZQm80wKkm/mAPQZKcsm",
      "include_colab_link": true
    },
    "kernelspec": {
      "name": "python3",
      "display_name": "Python 3"
    },
    "language_info": {
      "name": "python"
    }
  },
  "cells": [
    {
      "cell_type": "markdown",
      "metadata": {
        "id": "view-in-github",
        "colab_type": "text"
      },
      "source": [
        "<a href=\"https://colab.research.google.com/github/Bheady23/MLA_CMB/blob/main/MLA4_CMB.ipynb\" target=\"_parent\"><img src=\"https://colab.research.google.com/assets/colab-badge.svg\" alt=\"Open In Colab\"/></a>"
      ]
    },
    {
      "cell_type": "markdown",
      "source": [
        "##Machine Learning Assignment #4 - Decision Trees\n",
        "\n",
        "**Christopher Burkhead**"
      ],
      "metadata": {
        "id": "9WZ7KwrHqry6"
      }
    },
    {
      "cell_type": "markdown",
      "source": [
        "**Standard Imports**"
      ],
      "metadata": {
        "id": "IYYfWMlfrXrR"
      }
    },
    {
      "cell_type": "code",
      "execution_count": 1,
      "metadata": {
        "id": "k_UKDPz9p5m-"
      },
      "outputs": [],
      "source": [
        "import pandas as pd\n",
        "import numpy as np\n",
        "import matplotlib.pyplot as plt\n",
        "import seaborn as sns\n",
        "%matplotlib inline"
      ]
    },
    {
      "cell_type": "code",
      "source": [
        "\n",
        "from google.colab import drive\n",
        "drive.mount('/content/gdrive')"
      ],
      "metadata": {
        "colab": {
          "base_uri": "https://localhost:8080/"
        },
        "id": "y3C-tQNvsFAb",
        "outputId": "6855f3d6-86c7-4c06-b49a-ccb762c79987"
      },
      "execution_count": 2,
      "outputs": [
        {
          "output_type": "stream",
          "name": "stdout",
          "text": [
            "Mounted at /content/gdrive\n"
          ]
        }
      ]
    },
    {
      "cell_type": "markdown",
      "source": [
        "##1. Import for Decision Trees"
      ],
      "metadata": {
        "id": "exx9b8S4rvwe"
      }
    },
    {
      "cell_type": "code",
      "source": [
        "from sklearn import tree\n",
        "from sklearn.tree import export_text"
      ],
      "metadata": {
        "id": "Z0JEnjrAr6JL"
      },
      "execution_count": 3,
      "outputs": []
    },
    {
      "cell_type": "markdown",
      "source": [
        "**Imports for Splitting data and building pipeline**"
      ],
      "metadata": {
        "id": "L_0x_qYPsjF_"
      }
    },
    {
      "cell_type": "code",
      "source": [
        "\n",
        "from sklearn.model_selection import train_test_split\n",
        "\n",
        "from sklearn.pipeline import Pipeline\n",
        "from sklearn.compose import ColumnTransformer\n",
        "from sklearn.preprocessing import MinMaxScaler\n",
        "from sklearn.preprocessing import OneHotEncoder"
      ],
      "metadata": {
        "id": "afle8JTGr_S3"
      },
      "execution_count": 4,
      "outputs": []
    },
    {
      "cell_type": "code",
      "source": [
        "\n",
        "from sklearn import set_config\n",
        "set_config(display='diagram')"
      ],
      "metadata": {
        "id": "ZWyDJr4jsnn6"
      },
      "execution_count": 5,
      "outputs": []
    },
    {
      "cell_type": "markdown",
      "source": [
        "**Imports for performance measures**"
      ],
      "metadata": {
        "id": "dSlGE5XWsuXA"
      }
    },
    {
      "cell_type": "code",
      "source": [
        "\n",
        "from sklearn.metrics import confusion_matrix\n",
        "from sklearn.metrics import precision_score, recall_score, f1_score\n",
        "from sklearn.metrics import mean_squared_error"
      ],
      "metadata": {
        "id": "439dBLO0ssOI"
      },
      "execution_count": 6,
      "outputs": []
    },
    {
      "cell_type": "markdown",
      "source": [
        "**Confusion Matrix Function**"
      ],
      "metadata": {
        "id": "wBoS8ZxOs6ju"
      }
    },
    {
      "cell_type": "code",
      "source": [
        "\n",
        "def plot_cm(y_test, y_pred):\n",
        "    cm = confusion_matrix(y_test,y_pred)\n",
        "    fig = plt.figure(figsize=(10,10))\n",
        "    heatmap = sns.heatmap(cm, annot=True, fmt='.2f', cmap='RdYlGn')\n",
        "    plt.ylabel('True label')\n",
        "    plt.xlabel('Predicted Label')"
      ],
      "metadata": {
        "id": "WiG0vp9OszxJ"
      },
      "execution_count": 7,
      "outputs": []
    },
    {
      "cell_type": "markdown",
      "source": [
        "##2. Desicion Tree Classification - Acuire Data"
      ],
      "metadata": {
        "id": "UpMuNOrBuUoY"
      }
    },
    {
      "cell_type": "code",
      "source": [
        "df = pd.read_csv('/content/gdrive/MyDrive/CS430/banknote_authentication.csv')"
      ],
      "metadata": {
        "id": "2PVT6FaotC9c"
      },
      "execution_count": 8,
      "outputs": []
    },
    {
      "cell_type": "markdown",
      "source": [
        "##3. Statistics and Visual Exploration\n",
        "\n",
        "**No need to repeat this step since it was completed on this data in assignment #3**"
      ],
      "metadata": {
        "id": "qNdoOa-su4iJ"
      }
    },
    {
      "cell_type": "markdown",
      "source": [
        "##4. Splitting data into Test/Train "
      ],
      "metadata": {
        "id": "hWgxifv7vROK"
      }
    },
    {
      "cell_type": "code",
      "source": [
        "X = df[['variance', 'skewness','curtosis', 'entropy']]\n",
        "y = df['forgery']"
      ],
      "metadata": {
        "id": "PddDSYZAuk4O"
      },
      "execution_count": 9,
      "outputs": []
    },
    {
      "cell_type": "code",
      "source": [
        "X_train, X_test, y_train, y_test = train_test_split(X, y, test_size=.2, random_state=24)"
      ],
      "metadata": {
        "id": "JJPuvN3Ovgdf"
      },
      "execution_count": 10,
      "outputs": []
    },
    {
      "cell_type": "markdown",
      "source": [
        "##5. Building the Pipeline"
      ],
      "metadata": {
        "id": "544OcqTGwF9F"
      }
    },
    {
      "cell_type": "code",
      "source": [
        "num_attribs = ['variance', 'skewness','curtosis', 'entropy']"
      ],
      "metadata": {
        "id": "jTfQ7D_bwIhB"
      },
      "execution_count": 11,
      "outputs": []
    },
    {
      "cell_type": "code",
      "source": [
        "col_transform = ColumnTransformer(transformers=[('num', MinMaxScaler(), num_attribs)], remainder='passthrough')"
      ],
      "metadata": {
        "id": "9criZCcVwQDY"
      },
      "execution_count": 12,
      "outputs": []
    },
    {
      "cell_type": "code",
      "source": [
        "pipeline = Pipeline([\n",
        "                     ('transform', col_transform),\n",
        "                     ('decision_tree',tree.DecisionTreeClassifier(max_depth=5))\n",
        "                     ])"
      ],
      "metadata": {
        "id": "1wF7djrFwTsf"
      },
      "execution_count": 13,
      "outputs": []
    },
    {
      "cell_type": "markdown",
      "source": [
        "##6. Executing the Model"
      ],
      "metadata": {
        "id": "ds2wUqlGxqnn"
      }
    },
    {
      "cell_type": "code",
      "source": [
        "pipeline.fit(X_train, y_train)\n"
      ],
      "metadata": {
        "colab": {
          "base_uri": "https://localhost:8080/",
          "height": 189
        },
        "id": "TwznFPjExfzs",
        "outputId": "8d92f59f-8dc4-4c0c-b606-591623217b40"
      },
      "execution_count": 14,
      "outputs": [
        {
          "output_type": "execute_result",
          "data": {
            "text/plain": [
              "Pipeline(steps=[('transform',\n",
              "                 ColumnTransformer(remainder='passthrough',\n",
              "                                   transformers=[('num', MinMaxScaler(),\n",
              "                                                  ['variance', 'skewness',\n",
              "                                                   'curtosis', 'entropy'])])),\n",
              "                ('decision_tree', DecisionTreeClassifier(max_depth=5))])"
            ],
            "text/html": [
              "<style>#sk-container-id-1 {color: black;background-color: white;}#sk-container-id-1 pre{padding: 0;}#sk-container-id-1 div.sk-toggleable {background-color: white;}#sk-container-id-1 label.sk-toggleable__label {cursor: pointer;display: block;width: 100%;margin-bottom: 0;padding: 0.3em;box-sizing: border-box;text-align: center;}#sk-container-id-1 label.sk-toggleable__label-arrow:before {content: \"▸\";float: left;margin-right: 0.25em;color: #696969;}#sk-container-id-1 label.sk-toggleable__label-arrow:hover:before {color: black;}#sk-container-id-1 div.sk-estimator:hover label.sk-toggleable__label-arrow:before {color: black;}#sk-container-id-1 div.sk-toggleable__content {max-height: 0;max-width: 0;overflow: hidden;text-align: left;background-color: #f0f8ff;}#sk-container-id-1 div.sk-toggleable__content pre {margin: 0.2em;color: black;border-radius: 0.25em;background-color: #f0f8ff;}#sk-container-id-1 input.sk-toggleable__control:checked~div.sk-toggleable__content {max-height: 200px;max-width: 100%;overflow: auto;}#sk-container-id-1 input.sk-toggleable__control:checked~label.sk-toggleable__label-arrow:before {content: \"▾\";}#sk-container-id-1 div.sk-estimator input.sk-toggleable__control:checked~label.sk-toggleable__label {background-color: #d4ebff;}#sk-container-id-1 div.sk-label input.sk-toggleable__control:checked~label.sk-toggleable__label {background-color: #d4ebff;}#sk-container-id-1 input.sk-hidden--visually {border: 0;clip: rect(1px 1px 1px 1px);clip: rect(1px, 1px, 1px, 1px);height: 1px;margin: -1px;overflow: hidden;padding: 0;position: absolute;width: 1px;}#sk-container-id-1 div.sk-estimator {font-family: monospace;background-color: #f0f8ff;border: 1px dotted black;border-radius: 0.25em;box-sizing: border-box;margin-bottom: 0.5em;}#sk-container-id-1 div.sk-estimator:hover {background-color: #d4ebff;}#sk-container-id-1 div.sk-parallel-item::after {content: \"\";width: 100%;border-bottom: 1px solid gray;flex-grow: 1;}#sk-container-id-1 div.sk-label:hover label.sk-toggleable__label {background-color: #d4ebff;}#sk-container-id-1 div.sk-serial::before {content: \"\";position: absolute;border-left: 1px solid gray;box-sizing: border-box;top: 0;bottom: 0;left: 50%;z-index: 0;}#sk-container-id-1 div.sk-serial {display: flex;flex-direction: column;align-items: center;background-color: white;padding-right: 0.2em;padding-left: 0.2em;position: relative;}#sk-container-id-1 div.sk-item {position: relative;z-index: 1;}#sk-container-id-1 div.sk-parallel {display: flex;align-items: stretch;justify-content: center;background-color: white;position: relative;}#sk-container-id-1 div.sk-item::before, #sk-container-id-1 div.sk-parallel-item::before {content: \"\";position: absolute;border-left: 1px solid gray;box-sizing: border-box;top: 0;bottom: 0;left: 50%;z-index: -1;}#sk-container-id-1 div.sk-parallel-item {display: flex;flex-direction: column;z-index: 1;position: relative;background-color: white;}#sk-container-id-1 div.sk-parallel-item:first-child::after {align-self: flex-end;width: 50%;}#sk-container-id-1 div.sk-parallel-item:last-child::after {align-self: flex-start;width: 50%;}#sk-container-id-1 div.sk-parallel-item:only-child::after {width: 0;}#sk-container-id-1 div.sk-dashed-wrapped {border: 1px dashed gray;margin: 0 0.4em 0.5em 0.4em;box-sizing: border-box;padding-bottom: 0.4em;background-color: white;}#sk-container-id-1 div.sk-label label {font-family: monospace;font-weight: bold;display: inline-block;line-height: 1.2em;}#sk-container-id-1 div.sk-label-container {text-align: center;}#sk-container-id-1 div.sk-container {/* jupyter's `normalize.less` sets `[hidden] { display: none; }` but bootstrap.min.css set `[hidden] { display: none !important; }` so we also need the `!important` here to be able to override the default hidden behavior on the sphinx rendered scikit-learn.org. See: https://github.com/scikit-learn/scikit-learn/issues/21755 */display: inline-block !important;position: relative;}#sk-container-id-1 div.sk-text-repr-fallback {display: none;}</style><div id=\"sk-container-id-1\" class=\"sk-top-container\"><div class=\"sk-text-repr-fallback\"><pre>Pipeline(steps=[(&#x27;transform&#x27;,\n",
              "                 ColumnTransformer(remainder=&#x27;passthrough&#x27;,\n",
              "                                   transformers=[(&#x27;num&#x27;, MinMaxScaler(),\n",
              "                                                  [&#x27;variance&#x27;, &#x27;skewness&#x27;,\n",
              "                                                   &#x27;curtosis&#x27;, &#x27;entropy&#x27;])])),\n",
              "                (&#x27;decision_tree&#x27;, DecisionTreeClassifier(max_depth=5))])</pre><b>In a Jupyter environment, please rerun this cell to show the HTML representation or trust the notebook. <br />On GitHub, the HTML representation is unable to render, please try loading this page with nbviewer.org.</b></div><div class=\"sk-container\" hidden><div class=\"sk-item sk-dashed-wrapped\"><div class=\"sk-label-container\"><div class=\"sk-label sk-toggleable\"><input class=\"sk-toggleable__control sk-hidden--visually\" id=\"sk-estimator-id-1\" type=\"checkbox\" ><label for=\"sk-estimator-id-1\" class=\"sk-toggleable__label sk-toggleable__label-arrow\">Pipeline</label><div class=\"sk-toggleable__content\"><pre>Pipeline(steps=[(&#x27;transform&#x27;,\n",
              "                 ColumnTransformer(remainder=&#x27;passthrough&#x27;,\n",
              "                                   transformers=[(&#x27;num&#x27;, MinMaxScaler(),\n",
              "                                                  [&#x27;variance&#x27;, &#x27;skewness&#x27;,\n",
              "                                                   &#x27;curtosis&#x27;, &#x27;entropy&#x27;])])),\n",
              "                (&#x27;decision_tree&#x27;, DecisionTreeClassifier(max_depth=5))])</pre></div></div></div><div class=\"sk-serial\"><div class=\"sk-item sk-dashed-wrapped\"><div class=\"sk-label-container\"><div class=\"sk-label sk-toggleable\"><input class=\"sk-toggleable__control sk-hidden--visually\" id=\"sk-estimator-id-2\" type=\"checkbox\" ><label for=\"sk-estimator-id-2\" class=\"sk-toggleable__label sk-toggleable__label-arrow\">transform: ColumnTransformer</label><div class=\"sk-toggleable__content\"><pre>ColumnTransformer(remainder=&#x27;passthrough&#x27;,\n",
              "                  transformers=[(&#x27;num&#x27;, MinMaxScaler(),\n",
              "                                 [&#x27;variance&#x27;, &#x27;skewness&#x27;, &#x27;curtosis&#x27;,\n",
              "                                  &#x27;entropy&#x27;])])</pre></div></div></div><div class=\"sk-parallel\"><div class=\"sk-parallel-item\"><div class=\"sk-item\"><div class=\"sk-label-container\"><div class=\"sk-label sk-toggleable\"><input class=\"sk-toggleable__control sk-hidden--visually\" id=\"sk-estimator-id-3\" type=\"checkbox\" ><label for=\"sk-estimator-id-3\" class=\"sk-toggleable__label sk-toggleable__label-arrow\">num</label><div class=\"sk-toggleable__content\"><pre>[&#x27;variance&#x27;, &#x27;skewness&#x27;, &#x27;curtosis&#x27;, &#x27;entropy&#x27;]</pre></div></div></div><div class=\"sk-serial\"><div class=\"sk-item\"><div class=\"sk-estimator sk-toggleable\"><input class=\"sk-toggleable__control sk-hidden--visually\" id=\"sk-estimator-id-4\" type=\"checkbox\" ><label for=\"sk-estimator-id-4\" class=\"sk-toggleable__label sk-toggleable__label-arrow\">MinMaxScaler</label><div class=\"sk-toggleable__content\"><pre>MinMaxScaler()</pre></div></div></div></div></div></div><div class=\"sk-parallel-item\"><div class=\"sk-item\"><div class=\"sk-label-container\"><div class=\"sk-label sk-toggleable\"><input class=\"sk-toggleable__control sk-hidden--visually\" id=\"sk-estimator-id-5\" type=\"checkbox\" ><label for=\"sk-estimator-id-5\" class=\"sk-toggleable__label sk-toggleable__label-arrow\">remainder</label><div class=\"sk-toggleable__content\"><pre>[]</pre></div></div></div><div class=\"sk-serial\"><div class=\"sk-item\"><div class=\"sk-estimator sk-toggleable\"><input class=\"sk-toggleable__control sk-hidden--visually\" id=\"sk-estimator-id-6\" type=\"checkbox\" ><label for=\"sk-estimator-id-6\" class=\"sk-toggleable__label sk-toggleable__label-arrow\">passthrough</label><div class=\"sk-toggleable__content\"><pre>passthrough</pre></div></div></div></div></div></div></div></div><div class=\"sk-item\"><div class=\"sk-estimator sk-toggleable\"><input class=\"sk-toggleable__control sk-hidden--visually\" id=\"sk-estimator-id-7\" type=\"checkbox\" ><label for=\"sk-estimator-id-7\" class=\"sk-toggleable__label sk-toggleable__label-arrow\">DecisionTreeClassifier</label><div class=\"sk-toggleable__content\"><pre>DecisionTreeClassifier(max_depth=5)</pre></div></div></div></div></div></div></div>"
            ]
          },
          "metadata": {},
          "execution_count": 14
        }
      ]
    },
    {
      "cell_type": "markdown",
      "source": [
        "##7. Evaluating the Model"
      ],
      "metadata": {
        "id": "hfZEs2qWx91a"
      }
    },
    {
      "cell_type": "code",
      "source": [
        "y_pred = pipeline.predict(X_test)"
      ],
      "metadata": {
        "id": "H-WCwBubx0-1"
      },
      "execution_count": 15,
      "outputs": []
    },
    {
      "cell_type": "code",
      "source": [
        "plot_cm(y_test, y_pred)"
      ],
      "metadata": {
        "colab": {
          "base_uri": "https://localhost:8080/",
          "height": 850
        },
        "id": "MDfC2WRvyILr",
        "outputId": "84be9398-a02c-4dc1-a49c-0e078d805c02"
      },
      "execution_count": 16,
      "outputs": [
        {
          "output_type": "display_data",
          "data": {
            "text/plain": [
              "<Figure size 1000x1000 with 2 Axes>"
            ],
            "image/png": "[encoded data removed]"
          },
          "metadata": {}
        }
      ]
    },
    {
      "cell_type": "code",
      "source": [
        "print('Precision:', precision_score(y_test,y_pred))\n",
        "print('Recall:', recall_score(y_test,y_pred))\n",
        "print('F1 score:', f1_score(y_test,y_pred))"
      ],
      "metadata": {
        "colab": {
          "base_uri": "https://localhost:8080/"
        },
        "id": "HWnxZcBtyODi",
        "outputId": "eb9e28da-13e8-4992-e16b-99ff268e7732"
      },
      "execution_count": 17,
      "outputs": [
        {
          "output_type": "stream",
          "name": "stdout",
          "text": [
            "Precision: 0.967479674796748\n",
            "Recall: 0.9444444444444444\n",
            "F1 score: 0.9558232931726908\n"
          ]
        }
      ]
    },
    {
      "cell_type": "markdown",
      "source": [
        "**Precision came in at roughly 97%, this is excellent in that out of 123 predicitions where the model thought an instance was true, it was correct on 119 of those predictions and only 4 of the instances that it thought were true were in fact false. Recall came in at 94%, which is still a really good score. Though what brought the Recall score down was that is labeled 7 instances as being false when they were in fact true. Finally the F1 score came in at a solid 96% which reflects the over all accuracy of the model since it essentially averages the Precision and recalls scores.**"
      ],
      "metadata": {
        "id": "JQ4Gh7Q-ydhu"
      }
    },
    {
      "cell_type": "markdown",
      "source": [
        "##8. Conclusion\n",
        "\n",
        "**A Decision Tree classification model is very suitable in determing whether or not a banknote is a forgery. All of it's evaulations scores were in the mid to high 90th percentile, with the highest being the Precision coming in at 97%, so it is very good at predicting forgeries. The only hesitancy with this model is it's recall being at 94% so it sometimes misses forgeries which is not ideal for a bank, because even just a few forgeries can cause significant losses. Especially when you compare it to the SVC classification model which we know has a 100% recall score using this data set, I would be more inclind to use it over Decision Tree classification model. Though the Decision Tree still does an excellent job overall.**"
      ],
      "metadata": {
        "id": "1gfri4A5NDgZ"
      }
    },
    {
      "cell_type": "code",
      "source": [],
      "metadata": {
        "id": "pb3LRVUOyaKF"
      },
      "execution_count": 17,
      "outputs": []
    },
    {
      "cell_type": "markdown",
      "source": [
        "## Decision Tree Regression Model"
      ],
      "metadata": {
        "id": "xulRygTVP9H7"
      }
    },
    {
      "cell_type": "markdown",
      "source": [
        "##1. Acuire Data"
      ],
      "metadata": {
        "id": "AdQpWy1FQLAr"
      }
    },
    {
      "cell_type": "code",
      "source": [
        "df = pd.read_csv('/content/gdrive/MyDrive/CS430/Steel_industry_data.csv')"
      ],
      "metadata": {
        "id": "6R4csNm-QJ29"
      },
      "execution_count": 18,
      "outputs": []
    },
    {
      "cell_type": "code",
      "source": [
        "df.rename(columns={\"Usage_kWh\" : \"usage_kwh\", \"Lagging_Current_Reactive.Power_kVarh\" : \"lag_react_pwr_kvarh\", \"Leading_Current_Reactive_Power_kVarh\" : \"lead_react_pwr_kvarh\", \"Lagging_Current_Power_Factor\" : \"lag_current_pwr\", \"Leading_Current_Power_Factor\" : \"lead_current_pwr\", \"NSM\" : \"nsm\", \"WeekStatus\" : \"week_status\", \"Day_of_week\" : \"day_of_week\", \"Load_Type\" : \"load_type\"}, inplace=True)\n"
      ],
      "metadata": {
        "id": "cBkMdguxQSsq"
      },
      "execution_count": 19,
      "outputs": []
    },
    {
      "cell_type": "markdown",
      "source": [
        "##2. Splitting the Data into Test/Train"
      ],
      "metadata": {
        "id": "uvC3XthOQaDQ"
      }
    },
    {
      "cell_type": "code",
      "source": [
        "X = df[['lag_react_pwr_kvarh', 'lead_react_pwr_kvarh','CO2(tCO2)', 'lag_current_pwr', 'lead_current_pwr', 'nsm','week_status', 'day_of_week', 'load_type']]\n"
      ],
      "metadata": {
        "id": "RANLpYQlQW2y"
      },
      "execution_count": 20,
      "outputs": []
    },
    {
      "cell_type": "code",
      "source": [
        "y = df['usage_kwh']"
      ],
      "metadata": {
        "id": "ej6vh-LiQjA-"
      },
      "execution_count": 21,
      "outputs": []
    },
    {
      "cell_type": "code",
      "source": [
        "X_train, X_test, y_train, y_test = train_test_split(X,y, test_size=.20, random_state=32)\n"
      ],
      "metadata": {
        "id": "FHmrdFIgQqu3"
      },
      "execution_count": 22,
      "outputs": []
    },
    {
      "cell_type": "markdown",
      "source": [
        "##3-4. Building the pipeline"
      ],
      "metadata": {
        "id": "eRH1yR4kSVgu"
      }
    },
    {
      "cell_type": "code",
      "source": [
        "num_attribs = ['lag_react_pwr_kvarh', 'lead_react_pwr_kvarh','CO2(tCO2)', 'lag_current_pwr', 'lead_current_pwr', 'nsm']\n",
        "cat_attribs = ['week_status', 'day_of_week','load_type']"
      ],
      "metadata": {
        "id": "5Jav5BcNQtlN"
      },
      "execution_count": 23,
      "outputs": []
    },
    {
      "cell_type": "code",
      "source": [
        "col_transform = ColumnTransformer(transformers=[ ('cat',OneHotEncoder(), cat_attribs), ('num',MinMaxScaler(), num_attribs),])"
      ],
      "metadata": {
        "id": "isTM8oNOSmRG"
      },
      "execution_count": 24,
      "outputs": []
    },
    {
      "cell_type": "code",
      "source": [
        "pipeline = Pipeline([\n",
        "                     ('transform', col_transform),\n",
        "                     ('decision_tree',tree.DecisionTreeRegressor(max_depth=5))\n",
        "                     ])"
      ],
      "metadata": {
        "id": "y9le1pUQStBS"
      },
      "execution_count": 25,
      "outputs": []
    },
    {
      "cell_type": "markdown",
      "source": [
        "##5. Executing the Model"
      ],
      "metadata": {
        "id": "TJ9cMMkCS9W_"
      }
    },
    {
      "cell_type": "code",
      "source": [
        "pipeline.fit(X_train, y_train)"
      ],
      "metadata": {
        "colab": {
          "base_uri": "https://localhost:8080/",
          "height": 189
        },
        "id": "q-aon2zET2i1",
        "outputId": "7ee06814-ed34-4a9b-c6d2-dffeb3f5efb4"
      },
      "execution_count": 26,
      "outputs": [
        {
          "output_type": "execute_result",
          "data": {
            "text/plain": [
              "Pipeline(steps=[('transform',\n",
              "                 ColumnTransformer(transformers=[('cat', OneHotEncoder(),\n",
              "                                                  ['week_status', 'day_of_week',\n",
              "                                                   'load_type']),\n",
              "                                                 ('num', MinMaxScaler(),\n",
              "                                                  ['lag_react_pwr_kvarh',\n",
              "                                                   'lead_react_pwr_kvarh',\n",
              "                                                   'CO2(tCO2)',\n",
              "                                                   'lag_current_pwr',\n",
              "                                                   'lead_current_pwr',\n",
              "                                                   'nsm'])])),\n",
              "                ('decision_tree', DecisionTreeRegressor(max_depth=5))])"
            ],
            "text/html": [
              "<style>#sk-container-id-2 {color: black;background-color: white;}#sk-container-id-2 pre{padding: 0;}#sk-container-id-2 div.sk-toggleable {background-color: white;}#sk-container-id-2 label.sk-toggleable__label {cursor: pointer;display: block;width: 100%;margin-bottom: 0;padding: 0.3em;box-sizing: border-box;text-align: center;}#sk-container-id-2 label.sk-toggleable__label-arrow:before {content: \"▸\";float: left;margin-right: 0.25em;color: #696969;}#sk-container-id-2 label.sk-toggleable__label-arrow:hover:before {color: black;}#sk-container-id-2 div.sk-estimator:hover label.sk-toggleable__label-arrow:before {color: black;}#sk-container-id-2 div.sk-toggleable__content {max-height: 0;max-width: 0;overflow: hidden;text-align: left;background-color: #f0f8ff;}#sk-container-id-2 div.sk-toggleable__content pre {margin: 0.2em;color: black;border-radius: 0.25em;background-color: #f0f8ff;}#sk-container-id-2 input.sk-toggleable__control:checked~div.sk-toggleable__content {max-height: 200px;max-width: 100%;overflow: auto;}#sk-container-id-2 input.sk-toggleable__control:checked~label.sk-toggleable__label-arrow:before {content: \"▾\";}#sk-container-id-2 div.sk-estimator input.sk-toggleable__control:checked~label.sk-toggleable__label {background-color: #d4ebff;}#sk-container-id-2 div.sk-label input.sk-toggleable__control:checked~label.sk-toggleable__label {background-color: #d4ebff;}#sk-container-id-2 input.sk-hidden--visually {border: 0;clip: rect(1px 1px 1px 1px);clip: rect(1px, 1px, 1px, 1px);height: 1px;margin: -1px;overflow: hidden;padding: 0;position: absolute;width: 1px;}#sk-container-id-2 div.sk-estimator {font-family: monospace;background-color: #f0f8ff;border: 1px dotted black;border-radius: 0.25em;box-sizing: border-box;margin-bottom: 0.5em;}#sk-container-id-2 div.sk-estimator:hover {background-color: #d4ebff;}#sk-container-id-2 div.sk-parallel-item::after {content: \"\";width: 100%;border-bottom: 1px solid gray;flex-grow: 1;}#sk-container-id-2 div.sk-label:hover label.sk-toggleable__label {background-color: #d4ebff;}#sk-container-id-2 div.sk-serial::before {content: \"\";position: absolute;border-left: 1px solid gray;box-sizing: border-box;top: 0;bottom: 0;left: 50%;z-index: 0;}#sk-container-id-2 div.sk-serial {display: flex;flex-direction: column;align-items: center;background-color: white;padding-right: 0.2em;padding-left: 0.2em;position: relative;}#sk-container-id-2 div.sk-item {position: relative;z-index: 1;}#sk-container-id-2 div.sk-parallel {display: flex;align-items: stretch;justify-content: center;background-color: white;position: relative;}#sk-container-id-2 div.sk-item::before, #sk-container-id-2 div.sk-parallel-item::before {content: \"\";position: absolute;border-left: 1px solid gray;box-sizing: border-box;top: 0;bottom: 0;left: 50%;z-index: -1;}#sk-container-id-2 div.sk-parallel-item {display: flex;flex-direction: column;z-index: 1;position: relative;background-color: white;}#sk-container-id-2 div.sk-parallel-item:first-child::after {align-self: flex-end;width: 50%;}#sk-container-id-2 div.sk-parallel-item:last-child::after {align-self: flex-start;width: 50%;}#sk-container-id-2 div.sk-parallel-item:only-child::after {width: 0;}#sk-container-id-2 div.sk-dashed-wrapped {border: 1px dashed gray;margin: 0 0.4em 0.5em 0.4em;box-sizing: border-box;padding-bottom: 0.4em;background-color: white;}#sk-container-id-2 div.sk-label label {font-family: monospace;font-weight: bold;display: inline-block;line-height: 1.2em;}#sk-container-id-2 div.sk-label-container {text-align: center;}#sk-container-id-2 div.sk-container {/* jupyter's `normalize.less` sets `[hidden] { display: none; }` but bootstrap.min.css set `[hidden] { display: none !important; }` so we also need the `!important` here to be able to override the default hidden behavior on the sphinx rendered scikit-learn.org. See: https://github.com/scikit-learn/scikit-learn/issues/21755 */display: inline-block !important;position: relative;}#sk-container-id-2 div.sk-text-repr-fallback {display: none;}</style><div id=\"sk-container-id-2\" class=\"sk-top-container\"><div class=\"sk-text-repr-fallback\"><pre>Pipeline(steps=[(&#x27;transform&#x27;,\n",
              "                 ColumnTransformer(transformers=[(&#x27;cat&#x27;, OneHotEncoder(),\n",
              "                                                  [&#x27;week_status&#x27;, &#x27;day_of_week&#x27;,\n",
              "                                                   &#x27;load_type&#x27;]),\n",
              "                                                 (&#x27;num&#x27;, MinMaxScaler(),\n",
              "                                                  [&#x27;lag_react_pwr_kvarh&#x27;,\n",
              "                                                   &#x27;lead_react_pwr_kvarh&#x27;,\n",
              "                                                   &#x27;CO2(tCO2)&#x27;,\n",
              "                                                   &#x27;lag_current_pwr&#x27;,\n",
              "                                                   &#x27;lead_current_pwr&#x27;,\n",
              "                                                   &#x27;nsm&#x27;])])),\n",
              "                (&#x27;decision_tree&#x27;, DecisionTreeRegressor(max_depth=5))])</pre><b>In a Jupyter environment, please rerun this cell to show the HTML representation or trust the notebook. <br />On GitHub, the HTML representation is unable to render, please try loading this page with nbviewer.org.</b></div><div class=\"sk-container\" hidden><div class=\"sk-item sk-dashed-wrapped\"><div class=\"sk-label-container\"><div class=\"sk-label sk-toggleable\"><input class=\"sk-toggleable__control sk-hidden--visually\" id=\"sk-estimator-id-8\" type=\"checkbox\" ><label for=\"sk-estimator-id-8\" class=\"sk-toggleable__label sk-toggleable__label-arrow\">Pipeline</label><div class=\"sk-toggleable__content\"><pre>Pipeline(steps=[(&#x27;transform&#x27;,\n",
              "                 ColumnTransformer(transformers=[(&#x27;cat&#x27;, OneHotEncoder(),\n",
              "                                                  [&#x27;week_status&#x27;, &#x27;day_of_week&#x27;,\n",
              "                                                   &#x27;load_type&#x27;]),\n",
              "                                                 (&#x27;num&#x27;, MinMaxScaler(),\n",
              "                                                  [&#x27;lag_react_pwr_kvarh&#x27;,\n",
              "                                                   &#x27;lead_react_pwr_kvarh&#x27;,\n",
              "                                                   &#x27;CO2(tCO2)&#x27;,\n",
              "                                                   &#x27;lag_current_pwr&#x27;,\n",
              "                                                   &#x27;lead_current_pwr&#x27;,\n",
              "                                                   &#x27;nsm&#x27;])])),\n",
              "                (&#x27;decision_tree&#x27;, DecisionTreeRegressor(max_depth=5))])</pre></div></div></div><div class=\"sk-serial\"><div class=\"sk-item sk-dashed-wrapped\"><div class=\"sk-label-container\"><div class=\"sk-label sk-toggleable\"><input class=\"sk-toggleable__control sk-hidden--visually\" id=\"sk-estimator-id-9\" type=\"checkbox\" ><label for=\"sk-estimator-id-9\" class=\"sk-toggleable__label sk-toggleable__label-arrow\">transform: ColumnTransformer</label><div class=\"sk-toggleable__content\"><pre>ColumnTransformer(transformers=[(&#x27;cat&#x27;, OneHotEncoder(),\n",
              "                                 [&#x27;week_status&#x27;, &#x27;day_of_week&#x27;, &#x27;load_type&#x27;]),\n",
              "                                (&#x27;num&#x27;, MinMaxScaler(),\n",
              "                                 [&#x27;lag_react_pwr_kvarh&#x27;, &#x27;lead_react_pwr_kvarh&#x27;,\n",
              "                                  &#x27;CO2(tCO2)&#x27;, &#x27;lag_current_pwr&#x27;,\n",
              "                                  &#x27;lead_current_pwr&#x27;, &#x27;nsm&#x27;])])</pre></div></div></div><div class=\"sk-parallel\"><div class=\"sk-parallel-item\"><div class=\"sk-item\"><div class=\"sk-label-container\"><div class=\"sk-label sk-toggleable\"><input class=\"sk-toggleable__control sk-hidden--visually\" id=\"sk-estimator-id-10\" type=\"checkbox\" ><label for=\"sk-estimator-id-10\" class=\"sk-toggleable__label sk-toggleable__label-arrow\">cat</label><div class=\"sk-toggleable__content\"><pre>[&#x27;week_status&#x27;, &#x27;day_of_week&#x27;, &#x27;load_type&#x27;]</pre></div></div></div><div class=\"sk-serial\"><div class=\"sk-item\"><div class=\"sk-estimator sk-toggleable\"><input class=\"sk-toggleable__control sk-hidden--visually\" id=\"sk-estimator-id-11\" type=\"checkbox\" ><label for=\"sk-estimator-id-11\" class=\"sk-toggleable__label sk-toggleable__label-arrow\">OneHotEncoder</label><div class=\"sk-toggleable__content\"><pre>OneHotEncoder()</pre></div></div></div></div></div></div><div class=\"sk-parallel-item\"><div class=\"sk-item\"><div class=\"sk-label-container\"><div class=\"sk-label sk-toggleable\"><input class=\"sk-toggleable__control sk-hidden--visually\" id=\"sk-estimator-id-12\" type=\"checkbox\" ><label for=\"sk-estimator-id-12\" class=\"sk-toggleable__label sk-toggleable__label-arrow\">num</label><div class=\"sk-toggleable__content\"><pre>[&#x27;lag_react_pwr_kvarh&#x27;, &#x27;lead_react_pwr_kvarh&#x27;, &#x27;CO2(tCO2)&#x27;, &#x27;lag_current_pwr&#x27;, &#x27;lead_current_pwr&#x27;, &#x27;nsm&#x27;]</pre></div></div></div><div class=\"sk-serial\"><div class=\"sk-item\"><div class=\"sk-estimator sk-toggleable\"><input class=\"sk-toggleable__control sk-hidden--visually\" id=\"sk-estimator-id-13\" type=\"checkbox\" ><label for=\"sk-estimator-id-13\" class=\"sk-toggleable__label sk-toggleable__label-arrow\">MinMaxScaler</label><div class=\"sk-toggleable__content\"><pre>MinMaxScaler()</pre></div></div></div></div></div></div></div></div><div class=\"sk-item\"><div class=\"sk-estimator sk-toggleable\"><input class=\"sk-toggleable__control sk-hidden--visually\" id=\"sk-estimator-id-14\" type=\"checkbox\" ><label for=\"sk-estimator-id-14\" class=\"sk-toggleable__label sk-toggleable__label-arrow\">DecisionTreeRegressor</label><div class=\"sk-toggleable__content\"><pre>DecisionTreeRegressor(max_depth=5)</pre></div></div></div></div></div></div></div>"
            ]
          },
          "metadata": {},
          "execution_count": 26
        }
      ]
    },
    {
      "cell_type": "markdown",
      "source": [
        "##6. Evaluating the Model"
      ],
      "metadata": {
        "id": "Ud0WrL3qT7db"
      }
    },
    {
      "cell_type": "code",
      "source": [
        "y_pred = pipeline.predict(X_test)\n",
        "y_pred_train = pipeline.predict(X_train)"
      ],
      "metadata": {
        "id": "YGm7_1EJT6Qr"
      },
      "execution_count": 27,
      "outputs": []
    },
    {
      "cell_type": "code",
      "source": [
        "print(mean_squared_error(y_train, y_pred_train)**(0.5))\n",
        "print(mean_squared_error(y_test, y_pred)**(0.5))"
      ],
      "metadata": {
        "colab": {
          "base_uri": "https://localhost:8080/"
        },
        "id": "s3CureJ4mrT4",
        "outputId": "e6bf96a3-606d-4470-b466-fdb8331758a0"
      },
      "execution_count": 28,
      "outputs": [
        {
          "output_type": "stream",
          "name": "stdout",
          "text": [
            "3.5249255897811294\n",
            "3.6060394083742833\n"
          ]
        }
      ]
    },
    {
      "cell_type": "markdown",
      "source": [
        "**The Root squared mean of the train and test sets are seperated by less than a tenth of a point, 800th of a point to be exact. This means that there is only about 800th of a point difference between the data values the train and tests sets are capturing. This gives us great confidence in this models ability to make generalizations about this data set, since the the data values bewteen the train and test sets are almost identical.**  "
      ],
      "metadata": {
        "id": "tCA9ms_hncCu"
      }
    },
    {
      "cell_type": "markdown",
      "source": [
        "##7. Conclusion"
      ],
      "metadata": {
        "id": "ZJjmo4hJosVJ"
      }
    },
    {
      "cell_type": "markdown",
      "source": [
        "**Using a Decision Tree Regression model to predict the engery usage in KWH for the Steel industry appears to be a very sutible choice. Based on our limited evaluation of the model using the the Root squared means of the train and tests, we compared those scores to look for consistencey between the data sets. The scores we received were only 800th of a point different, which means the data sets were almost identical in the values they captured. This gives us great confidence that this model will allow us to make well informed generalizations when using this data.**  "
      ],
      "metadata": {
        "id": "sq1IIMKyou5X"
      }
    },
    {
      "cell_type": "code",
      "source": [],
      "metadata": {
        "id": "pSKN7oNynX7t"
      },
      "execution_count": 28,
      "outputs": []
    }
  ]
}